{
 "cells": [
  {
   "cell_type": "markdown",
   "id": "FNuAKXmF7LKW",
   "metadata": {
    "id": "FNuAKXmF7LKW"
   },
   "source": [
    "# **PRAKTIK 9 :  ENSEMBLE LEARNING**"
   ]
  },
  {
   "cell_type": "code",
   "execution_count": 38,
   "id": "a9be930a",
   "metadata": {
    "id": "a9be930a"
   },
   "outputs": [],
   "source": [
    "#import library\n",
    "from sklearn.model_selection import train_test_split, cross_val_score\n",
    "import pandas as pd\n",
    "from sklearn import datasets\n",
    "from sklearn.neighbors import KNeighborsClassifier\n",
    "from sklearn.ensemble import BaggingClassifier, AdaBoostClassifier"
   ]
  },
  {
   "cell_type": "code",
   "execution_count": 39,
   "id": "9affded3",
   "metadata": {},
   "outputs": [
    {
     "data": {
      "text/html": [
       "<div>\n",
       "<style scoped>\n",
       "    .dataframe tbody tr th:only-of-type {\n",
       "        vertical-align: middle;\n",
       "    }\n",
       "\n",
       "    .dataframe tbody tr th {\n",
       "        vertical-align: top;\n",
       "    }\n",
       "\n",
       "    .dataframe thead th {\n",
       "        text-align: right;\n",
       "    }\n",
       "</style>\n",
       "<table border=\"1\" class=\"dataframe\">\n",
       "  <thead>\n",
       "    <tr style=\"text-align: right;\">\n",
       "      <th></th>\n",
       "      <th>wconfid</th>\n",
       "      <th>pctid</th>\n",
       "      <th>x</th>\n",
       "      <th>y</th>\n",
       "      <th>z</th>\n",
       "    </tr>\n",
       "  </thead>\n",
       "  <tbody>\n",
       "    <tr>\n",
       "      <th>0</th>\n",
       "      <td>1</td>\n",
       "      <td>20</td>\n",
       "      <td>1.004</td>\n",
       "      <td>0.090</td>\n",
       "      <td>-0.125</td>\n",
       "    </tr>\n",
       "    <tr>\n",
       "      <th>1</th>\n",
       "      <td>1</td>\n",
       "      <td>20</td>\n",
       "      <td>1.004</td>\n",
       "      <td>-0.043</td>\n",
       "      <td>-0.125</td>\n",
       "    </tr>\n",
       "    <tr>\n",
       "      <th>2</th>\n",
       "      <td>1</td>\n",
       "      <td>20</td>\n",
       "      <td>0.969</td>\n",
       "      <td>0.090</td>\n",
       "      <td>-0.121</td>\n",
       "    </tr>\n",
       "    <tr>\n",
       "      <th>3</th>\n",
       "      <td>1</td>\n",
       "      <td>20</td>\n",
       "      <td>0.973</td>\n",
       "      <td>-0.012</td>\n",
       "      <td>-0.137</td>\n",
       "    </tr>\n",
       "    <tr>\n",
       "      <th>4</th>\n",
       "      <td>1</td>\n",
       "      <td>20</td>\n",
       "      <td>1.000</td>\n",
       "      <td>-0.016</td>\n",
       "      <td>-0.121</td>\n",
       "    </tr>\n",
       "    <tr>\n",
       "      <th>...</th>\n",
       "      <td>...</td>\n",
       "      <td>...</td>\n",
       "      <td>...</td>\n",
       "      <td>...</td>\n",
       "      <td>...</td>\n",
       "    </tr>\n",
       "    <tr>\n",
       "      <th>152995</th>\n",
       "      <td>3</td>\n",
       "      <td>100</td>\n",
       "      <td>1.051</td>\n",
       "      <td>0.090</td>\n",
       "      <td>-0.262</td>\n",
       "    </tr>\n",
       "    <tr>\n",
       "      <th>152996</th>\n",
       "      <td>3</td>\n",
       "      <td>100</td>\n",
       "      <td>0.918</td>\n",
       "      <td>0.039</td>\n",
       "      <td>-0.129</td>\n",
       "    </tr>\n",
       "    <tr>\n",
       "      <th>152997</th>\n",
       "      <td>3</td>\n",
       "      <td>100</td>\n",
       "      <td>1.156</td>\n",
       "      <td>-0.094</td>\n",
       "      <td>-0.227</td>\n",
       "    </tr>\n",
       "    <tr>\n",
       "      <th>152998</th>\n",
       "      <td>3</td>\n",
       "      <td>100</td>\n",
       "      <td>0.934</td>\n",
       "      <td>0.203</td>\n",
       "      <td>-0.172</td>\n",
       "    </tr>\n",
       "    <tr>\n",
       "      <th>152999</th>\n",
       "      <td>3</td>\n",
       "      <td>100</td>\n",
       "      <td>1.199</td>\n",
       "      <td>-0.176</td>\n",
       "      <td>0.109</td>\n",
       "    </tr>\n",
       "  </tbody>\n",
       "</table>\n",
       "<p>153000 rows × 5 columns</p>\n",
       "</div>"
      ],
      "text/plain": [
       "        wconfid  pctid      x      y      z\n",
       "0             1     20  1.004  0.090 -0.125\n",
       "1             1     20  1.004 -0.043 -0.125\n",
       "2             1     20  0.969  0.090 -0.121\n",
       "3             1     20  0.973 -0.012 -0.137\n",
       "4             1     20  1.000 -0.016 -0.121\n",
       "...         ...    ...    ...    ...    ...\n",
       "152995        3    100  1.051  0.090 -0.262\n",
       "152996        3    100  0.918  0.039 -0.129\n",
       "152997        3    100  1.156 -0.094 -0.227\n",
       "152998        3    100  0.934  0.203 -0.172\n",
       "152999        3    100  1.199 -0.176  0.109\n",
       "\n",
       "[153000 rows x 5 columns]"
      ]
     },
     "execution_count": 39,
     "metadata": {},
     "output_type": "execute_result"
    }
   ],
   "source": [
    "df = pd.read_csv('accelerometer.csv')\n",
    "df"
   ]
  },
  {
   "cell_type": "code",
   "execution_count": 40,
   "id": "fb81c126",
   "metadata": {},
   "outputs": [
    {
     "data": {
      "text/plain": [
       "0         1\n",
       "1         1\n",
       "2         1\n",
       "3         1\n",
       "4         1\n",
       "         ..\n",
       "152995    3\n",
       "152996    3\n",
       "152997    3\n",
       "152998    3\n",
       "152999    3\n",
       "Name: wconfid, Length: 153000, dtype: int64"
      ]
     },
     "execution_count": 40,
     "metadata": {},
     "output_type": "execute_result"
    }
   ],
   "source": [
    "df_feature = df.iloc[:,2:5]\n",
    "df_wconfid = df.iloc[:,0]\n",
    "df_wconfid"
   ]
  },
  {
   "cell_type": "code",
   "execution_count": 41,
   "id": "00de2349",
   "metadata": {},
   "outputs": [],
   "source": [
    "#membagi dataset menjadi data training dan data testing\n",
    "atr_train, atr_test, kelas_train, kelas_test = train_test_split(df_feature, df_wconfid, test_size=0.2, random_state=0)"
   ]
  },
  {
   "cell_type": "code",
   "execution_count": 42,
   "id": "678ac46c",
   "metadata": {
    "colab": {
     "base_uri": "https://localhost:8080/"
    },
    "id": "678ac46c",
    "outputId": "1bfa3f65-e8e6-4ca8-da10-b3bb099c2f02"
   },
   "outputs": [
    {
     "data": {
      "text/plain": [
       "(122400, 3)"
      ]
     },
     "execution_count": 42,
     "metadata": {},
     "output_type": "execute_result"
    }
   ],
   "source": [
    "atr_train.shape"
   ]
  },
  {
   "cell_type": "code",
   "execution_count": 43,
   "id": "c1ae7719",
   "metadata": {
    "colab": {
     "base_uri": "https://localhost:8080/"
    },
    "id": "c1ae7719",
    "outputId": "cad8a161-b738-4e6f-8ef2-3840b94ed662"
   },
   "outputs": [
    {
     "data": {
      "text/plain": [
       "(30600, 3)"
      ]
     },
     "execution_count": 43,
     "metadata": {},
     "output_type": "execute_result"
    }
   ],
   "source": [
    "atr_test.shape"
   ]
  },
  {
   "cell_type": "code",
   "execution_count": 44,
   "id": "c97ffc00",
   "metadata": {
    "colab": {
     "base_uri": "https://localhost:8080/"
    },
    "id": "c97ffc00",
    "outputId": "18bf3b1c-ec60-42df-880d-f52c8ef4c9fa"
   },
   "outputs": [
    {
     "data": {
      "text/plain": [
       "(122400,)"
      ]
     },
     "execution_count": 44,
     "metadata": {},
     "output_type": "execute_result"
    }
   ],
   "source": [
    "kelas_train.shape"
   ]
  },
  {
   "cell_type": "code",
   "execution_count": 45,
   "id": "f93c18f0",
   "metadata": {
    "colab": {
     "base_uri": "https://localhost:8080/"
    },
    "id": "f93c18f0",
    "outputId": "47629683-48f5-4af2-8b5c-d348d849cd27"
   },
   "outputs": [
    {
     "data": {
      "text/plain": [
       "(30600,)"
      ]
     },
     "execution_count": 45,
     "metadata": {},
     "output_type": "execute_result"
    }
   ],
   "source": [
    "kelas_test.shape"
   ]
  },
  {
   "cell_type": "markdown",
   "id": "tckhXghP7Zoa",
   "metadata": {
    "id": "tckhXghP7Zoa"
   },
   "source": [
    "## **Penerapan Ensemble**"
   ]
  },
  {
   "cell_type": "code",
   "execution_count": 46,
   "id": "f505255f",
   "metadata": {
    "id": "f505255f"
   },
   "outputs": [],
   "source": [
    "from sklearn.model_selection import cross_val_score"
   ]
  },
  {
   "cell_type": "code",
   "execution_count": 47,
   "id": "31339bcd",
   "metadata": {
    "id": "31339bcd"
   },
   "outputs": [],
   "source": [
    "from sklearn.ensemble import AdaBoostClassifier"
   ]
  },
  {
   "cell_type": "markdown",
   "id": "HfDWbi6E7eA4",
   "metadata": {
    "id": "HfDWbi6E7eA4"
   },
   "source": [
    "### **Ensemble Bagging**"
   ]
  },
  {
   "cell_type": "code",
   "execution_count": 48,
   "id": "831378f8",
   "metadata": {
    "id": "831378f8"
   },
   "outputs": [],
   "source": [
    "#menjalankan metode ensemble bagging\n",
    "modelknn = KNeighborsClassifier(n_neighbors=5)\n",
    "modelensemble=BaggingClassifier(base_estimator=modelknn, n_estimators=15, max_samples=0.7)"
   ]
  },
  {
   "cell_type": "code",
   "execution_count": 49,
   "id": "86efccd0",
   "metadata": {
    "id": "86efccd0"
   },
   "outputs": [],
   "source": [
    "#melakukan pengujian dengan cross validation\n",
    "akurasi = cross_val_score(modelensemble, cancer.data, cancer.target, cv=20)"
   ]
  },
  {
   "cell_type": "code",
   "execution_count": 57,
   "id": "ca21079a",
   "metadata": {
    "colab": {
     "base_uri": "https://localhost:8080/"
    },
    "id": "ca21079a",
    "outputId": "e72b05e3-36e3-46c2-f50d-6da9997d9f6e"
   },
   "outputs": [
    {
     "name": "stdout",
     "output_type": "stream",
     "text": [
      "0.9281403940886701\n"
     ]
    }
   ],
   "source": [
    "#melihat rata-rata akurasi metode ensemble bagging\n",
    "print(akurasi.mean())"
   ]
  },
  {
   "cell_type": "code",
   "execution_count": 58,
   "id": "c50e60bb",
   "metadata": {
    "id": "c50e60bb"
   },
   "outputs": [],
   "source": [
    "from sklearn.ensemble import AdaBoostClassifier"
   ]
  },
  {
   "cell_type": "markdown",
   "id": "mvJzkVUs7hBj",
   "metadata": {
    "id": "mvJzkVUs7hBj"
   },
   "source": [
    "### **Ensemble Boosting**"
   ]
  },
  {
   "cell_type": "code",
   "execution_count": 59,
   "id": "504129c6",
   "metadata": {
    "id": "504129c6"
   },
   "outputs": [],
   "source": [
    "#menjalankan  metode ensemble boosting\n",
    "from sklearn.naive_bayes import GaussianNB\n",
    "modelNB = GaussianNB()\n",
    "modelensemble2 = AdaBoostClassifier(base_estimator=modelNB, n_estimators=30)"
   ]
  },
  {
   "cell_type": "code",
   "execution_count": 60,
   "id": "254a7530",
   "metadata": {
    "id": "254a7530"
   },
   "outputs": [],
   "source": [
    "from sklearn.model_selection import cross_val_score"
   ]
  },
  {
   "cell_type": "code",
   "execution_count": 61,
   "id": "2902547d",
   "metadata": {
    "id": "2902547d"
   },
   "outputs": [],
   "source": [
    "#melakukan pengujian dengan cross validation\n",
    "akurasi2 = cross_val_score(modelensemble2, cancer.data, cancer.target, cv=20)"
   ]
  },
  {
   "cell_type": "code",
   "execution_count": 62,
   "id": "c6d1307e",
   "metadata": {
    "colab": {
     "base_uri": "https://localhost:8080/"
    },
    "id": "c6d1307e",
    "outputId": "b094d993-f3dc-4227-93f5-57251707b8d8"
   },
   "outputs": [
    {
     "name": "stdout",
     "output_type": "stream",
     "text": [
      "0.8783866995073891\n"
     ]
    }
   ],
   "source": [
    "#melihat rata-rata akurasi dari metode ensemble boosting\n",
    "print(akurasi2.mean())"
   ]
  },
  {
   "cell_type": "code",
   "execution_count": null,
   "id": "1eb2ee5f",
   "metadata": {},
   "outputs": [],
   "source": []
  },
  {
   "cell_type": "code",
   "execution_count": null,
   "id": "1feb82b3",
   "metadata": {},
   "outputs": [],
   "source": []
  }
 ],
 "metadata": {
  "colab": {
   "provenance": []
  },
  "kernelspec": {
   "display_name": "Python 3 (ipykernel)",
   "language": "python",
   "name": "python3"
  },
  "language_info": {
   "codemirror_mode": {
    "name": "ipython",
    "version": 3
   },
   "file_extension": ".py",
   "mimetype": "text/x-python",
   "name": "python",
   "nbconvert_exporter": "python",
   "pygments_lexer": "ipython3",
   "version": "3.9.12"
  }
 },
 "nbformat": 4,
 "nbformat_minor": 5
}
